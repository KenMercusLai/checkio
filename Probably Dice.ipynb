{
 "metadata": {
  "name": "",
  "signature": "sha256:2793eb78770a3b7ebce416d27bcdcf4d43c9ed9a13be9335f6c4ba180595cec5"
 },
 "nbformat": 3,
 "nbformat_minor": 0,
 "worksheets": [
  {
   "cells": [
    {
     "cell_type": "markdown",
     "metadata": {},
     "source": [
      "# \u9898\u76ee\u9700\u6c42\n",
      "\n",
      "\u9898\u76ee\u7684\u539f\u610f\u53ef\u4ee5\u603b\u7ed3\u4e3a\uff1a\u6c42N\u4e2aM\u9762\u9ab0\u5b50\uff08\u9ab0\u5b50\u70b9\u6570\u4e3a1-M\uff09\u63b7\u51faX\u70b9\u6570\u7684\u6982\u7387\u3002\n",
      "\n",
      "\u5176\u4e2d\uff0cN\uff0cM\uff0cX\u4f9d\u6b21\u4e3a\u6211\u4eec\u9700\u8981\u7f16\u5199\u7684\u51fd\u6570\u7684\u4e09\u4e2a\u53c2\u6570\u3002\u8fd4\u56de\u503c\u662f0\uff5e1\u7684\u4e00\u4e2a\u6570\u5b57\uff0c\u9700\u89814\u820d5\u5165\u4fdd\u7559\u56db\u4f4d\u5c0f\u6570\u3002\n",
      "\n",
      "\u8fd9\u662f\u9898\u76ee\u7684\u539f\u59cb\u4ee3\u7801\uff1a"
     ]
    },
    {
     "cell_type": "code",
     "collapsed": false,
     "input": [
      "def probability(dice_number, sides, target):\n",
      "    return 0.0\n",
      "\n",
      "if __name__ == '__main__':\n",
      "    #These are only used for self-checking and are not necessary for auto-testing\n",
      "    def almost_equal(checked, correct, significant_digits=4):\n",
      "        precision = 0.1 ** significant_digits\n",
      "        return correct - precision < checked < correct + precision\n",
      "        \n",
      "    assert(almost_equal(probability(2, 6, 3), 0.0556)), \"Basic example\"\n",
      "    assert(almost_equal(probability(2, 6, 4), 0.0833)), \"More points\"\n",
      "    assert(almost_equal(probability(2, 6, 7), 0.1667)), \"Maximum for two 6-sided dice\"\n",
      "    assert(almost_equal(probability(2, 3, 5), 0.2222)), \"Small dice\"\n",
      "    assert(almost_equal(probability(2, 3, 7), 0.0000)), \"Never!\"\n",
      "    assert(almost_equal(probability(3, 6, 7), 0.0694)), \"Three dice\"\n",
      "    assert(almost_equal(probability(10, 10, 50), 0.0375)), \"Many dice, many sides\""
     ],
     "language": "python",
     "metadata": {},
     "outputs": []
    },
    {
     "cell_type": "markdown",
     "metadata": {},
     "source": [
      "# \u601d\u8def\n",
      "\n",
      "\u5176\u5b9e\u4ece\u8fd9\u4e2a\u95ee\u9898\u6765\u770b\uff0c\u6211\u4eec\u6709\u4e00\u4e2a\u5f88\u76f4\u89c2\u7684\u601d\u8def\u5c31\u662f\u7ec4\u5408\u51fa\u6240\u6709\u7684\u53ef\u80fd\uff0c\u7136\u540e\u7b5b\u9009\u51fa\u7b26\u5408\u8981\u6c42\u7684\u7ec4\u5408\uff0c\u7136\u540e\u8fdb\u884c\u8ba1\u6570\u5373\u53ef\u3002\u6709\u4e86\u7b26\u5408\u8981\u6c42\u7684\u7ec4\u5408\u6570\u91cf\uff0c\u9664\u4ee5\u603b\u7684\u7ec4\u5408\u6570\u5373\u53ef\u5f97\u5230\u7b54\u6848\u3002\n",
      "\n",
      "\u6211\u4eec\u5148\u628a\u95ee\u9898\u5206\u5f00\u6765\u770b\uff0c\u7136\u540e\u518d\u5c06\u5404\u4e2a\u788e\u7247\u7ec4\u5408\u8d77\u6765\u3002\n",
      "\n",
      "\u4ea7\u751fdice_number\u4e2a\uff0c\u6570\u5b57\u662f1~sides\u7684list:"
     ]
    },
    {
     "cell_type": "code",
     "collapsed": false,
     "input": [
      "[range(1, sides + 1)] * dice_number"
     ],
     "language": "python",
     "metadata": {},
     "outputs": []
    },
    {
     "cell_type": "markdown",
     "metadata": {},
     "source": [
      "\u6211\u4eec\u6d4b\u8bd5\u4e00\u4e0b\uff0c\u4e24\u4e2a6\u9762\u9ab0\u5b50\uff1a"
     ]
    },
    {
     "cell_type": "code",
     "collapsed": false,
     "input": [
      "[range(1, 6 + 1)] * 2"
     ],
     "language": "python",
     "metadata": {},
     "outputs": [
      {
       "metadata": {},
       "output_type": "pyout",
       "prompt_number": 4,
       "text": [
        "[[1, 2, 3, 4, 5, 6], [1, 2, 3, 4, 5, 6]]"
       ]
      }
     ],
     "prompt_number": 4
    },
    {
     "cell_type": "markdown",
     "metadata": {},
     "source": [
      "\u6211\u4eec\u73b0\u5728\u6765\u8bd5\u7740\u5f97\u51fa\u6240\u6709\u7684\u7ec4\u5408\u3002\n",
      "\n",
      "\u4e0d\u8fc7\u9700\u8981\u6ce8\u610f\u7684\u662f\uff0c\u8fd9\u91cc\u53ef\u4e0d\u80fd\u7528permutations\u6765\u5b9e\u73b0\u3002\u539f\u56e0\u662f\uff1a\n",
      "\n",
      "* \u6211\u4eec\u751f\u6210\u7684\u662f\u5305\u542b\u4e24\u4e2a\u5b50list\u7684list\u3002\u4e5f\u5c31\u662f\u8bf4\uff0c\u91cc\u9762\u53ea\u5305\u542b\u4e24\u4e2a\u5143\u7d20\uff1b"
     ]
    },
    {
     "cell_type": "code",
     "collapsed": false,
     "input": [
      "import itertools\n",
      "[i for i in itertools.permutations([range(1, 6 + 1)] * 2)]"
     ],
     "language": "python",
     "metadata": {},
     "outputs": [
      {
       "metadata": {},
       "output_type": "pyout",
       "prompt_number": 7,
       "text": [
        "[([1, 2, 3, 4, 5, 6], [1, 2, 3, 4, 5, 6]),\n",
        " ([1, 2, 3, 4, 5, 6], [1, 2, 3, 4, 5, 6])]"
       ]
      }
     ],
     "prompt_number": 7
    },
    {
     "cell_type": "markdown",
     "metadata": {},
     "source": [
      "* \u65e2\u662f\u6211\u4eec\u5c06\u5217\u8868\u505a\u6210\u4e00\u4e2a\u5305\u542b12\u4e2a\u5143\u7d20\u7684list\uff0cpermutation\u4f1a\u5bfc\u81f4\u6bcf\u4e2a\u5408\u7406\u7684\u7ec4\u5408\u51fa\u73b0\u4e24\u6b21\u3002\u56e0\u4e3apermutations\u5e76\u4e0d\u533a\u5206\u4e24\u4e2adice\uff0c\u6240\u4ee5\u6211\u4eec\u5e0c\u671b\u53ea\u5f97\u5230(\u7b2c\u4e00\u4e2a\u9ab0\u5b50\u70b9\u6570\uff0c\u7b2c\u4e8c\u4e2a\u9ab0\u5b50\u70b9\u6570)\u7684\u60c5\u51b5\uff0c\u5728permutations\u4f1a\u51fa\u73b0\uff08\u7b2c\u4e8c\u4e2a\u9ab0\u5b50\u70b9\u6570\uff0c\u7b2c\u4e00\u4e2a\u9ab0\u5b50\u70b9\u6570\uff09\u7684\u60c5\u51b5\u3002\uff08\u5343\u4e07\u4e0d\u8981\u76f4\u63a5\u8fd0\u884c\uff0c\u4e00\u5171\u662f12!\u4e2a\u6392\u5217\uff01\uff09"
     ]
    },
    {
     "cell_type": "code",
     "collapsed": false,
     "input": [
      "[i for i in itertools.permutations(range(1, 6 + 1) * 2)]"
     ],
     "language": "python",
     "metadata": {},
     "outputs": []
    },
    {
     "cell_type": "markdown",
     "metadata": {},
     "source": [
      "\u5176\u5b9e\u6211\u4eec\u4e24\u4e2a\u521b\u5efa\u4e24\u4e2a\u5b50list\u5305\u542b\u76f8\u540c\u7684\u5143\u7d20\uff0c\u662f\u4e3a\u4e86\u6a21\u62df\u7b2c\u4e00\u4e2a\u9ab0\u5b50\u70b9\u6570\u548c\u7b2c\u4e8c\u4e2a\u70b9\u6570\uff0c\u6b63\u786e\u7684\u505a\u6cd5\u662f"
     ]
    },
    {
     "cell_type": "code",
     "collapsed": false,
     "input": [
      "[i for i in itertools.product(*([range(1, 6 + 1)] * 2))]"
     ],
     "language": "python",
     "metadata": {},
     "outputs": [
      {
       "metadata": {},
       "output_type": "pyout",
       "prompt_number": 5,
       "text": [
        "[(1, 1),\n",
        " (1, 2),\n",
        " (1, 3),\n",
        " (1, 4),\n",
        " (1, 5),\n",
        " (1, 6),\n",
        " (2, 1),\n",
        " (2, 2),\n",
        " (2, 3),\n",
        " (2, 4),\n",
        " (2, 5),\n",
        " (2, 6),\n",
        " (3, 1),\n",
        " (3, 2),\n",
        " (3, 3),\n",
        " (3, 4),\n",
        " (3, 5),\n",
        " (3, 6),\n",
        " (4, 1),\n",
        " (4, 2),\n",
        " (4, 3),\n",
        " (4, 4),\n",
        " (4, 5),\n",
        " (4, 6),\n",
        " (5, 1),\n",
        " (5, 2),\n",
        " (5, 3),\n",
        " (5, 4),\n",
        " (5, 5),\n",
        " (5, 6),\n",
        " (6, 1),\n",
        " (6, 2),\n",
        " (6, 3),\n",
        " (6, 4),\n",
        " (6, 5),\n",
        " (6, 6)]"
       ]
      }
     ],
     "prompt_number": 5
    },
    {
     "cell_type": "markdown",
     "metadata": {},
     "source": [
      "\u5230\u6b64\u6211\u4eec\u7b97\u662f\u89e3\u51b3\u4e86\u4e00\u4e2a\u76f4\u89c2\u4e0a\u6700\u91cd\u8981\u7684\u95ee\u9898\u2014\u2014\u5982\u4f55\u5f97\u51fa\u4e24\u4e2a\u9ab0\u5b50\u7684\u7ec4\u5408\u3002\u5269\u4e0b\u7684\u5c31\u662f\u628a\u6bcf\u4e2a\u7ec4\u5408\u6c42\u548c\u770b\u770b\u662f\u4e0d\u662f\u6211\u4eec\u9700\u8981\u7684\u70b9\u6570\u3002\u8fd9\u6837\u6211\u4eec\u5f97\u5230\u4e86\u7b2c\u4e00\u4e2a\u7248\u672c\u7684\u89e3\u7b54\uff1a"
     ]
    },
    {
     "cell_type": "code",
     "collapsed": false,
     "input": [
      "from itertools import product\n",
      "def probability(dice_number, sides, target):\n",
      "    combinations = [i \n",
      "                    for i in product(*([range(1, sides + 1)] * dice_number))\n",
      "                    if sum(i) == target]\n",
      "    return round(len(combinations) / (sides ** dice_number), 4)"
     ],
     "language": "python",
     "metadata": {},
     "outputs": [],
     "prompt_number": 18
    },
    {
     "cell_type": "markdown",
     "metadata": {},
     "source": [
      "\u6211\u4eec\u6765\u6d4b\u8bd5\u4ee5\u4e0b\u7ed3\u679c\uff1a"
     ]
    },
    {
     "cell_type": "code",
     "collapsed": false,
     "input": [
      "from __future__ import division\n",
      "def almost_equal(checked, correct, significant_digits=4):\n",
      "    precision = 0.1 ** significant_digits\n",
      "    return correct - precision < checked < correct + precision\n",
      "        \n",
      "%time assert(almost_equal(probability(2, 6, 3), 0.0556)), \"Basic example\"\n",
      "%time assert(almost_equal(probability(2, 6, 4), 0.0833)), \"More points\"\n",
      "%time assert(almost_equal(probability(2, 6, 7), 0.1667)), \"Maximum for two 6-sided dice\"\n",
      "%time assert(almost_equal(probability(2, 3, 5), 0.2222)), \"Small dice\"\n",
      "%time assert(almost_equal(probability(2, 3, 7), 0.0000)), \"Never!\"\n",
      "%time assert(almost_equal(probability(3, 6, 7), 0.0694)), \"Three dice\""
     ],
     "language": "python",
     "metadata": {},
     "outputs": [
      {
       "output_type": "stream",
       "stream": "stdout",
       "text": [
        "CPU times: user 45 \u00b5s, sys: 1 \u00b5s, total: 46 \u00b5s\n",
        "Wall time: 52 \u00b5s\n",
        "CPU times: user 45 \u00b5s, sys: 1 \u00b5s, total: 46 \u00b5s\n",
        "Wall time: 51 \u00b5s\n",
        "CPU times: user 44 \u00b5s, sys: 1 \u00b5s, total: 45 \u00b5s\n",
        "Wall time: 49.8 \u00b5s\n",
        "CPU times: user 32 \u00b5s, sys: 1 \u00b5s, total: 33 \u00b5s\n",
        "Wall time: 38.9 \u00b5s\n",
        "CPU times: user 21 \u00b5s, sys: 1e+03 ns, total: 22 \u00b5s\n",
        "Wall time: 26 \u00b5s\n",
        "CPU times: user 97 \u00b5s, sys: 1e+03 ns, total: 98 \u00b5s\n",
        "Wall time: 103 \u00b5s\n"
       ]
      }
     ],
     "prompt_number": 19
    },
    {
     "cell_type": "markdown",
     "metadata": {},
     "source": [
      "\u770b\u6765\u90fd\u52a8\u8fc7\u4e86\uff0c\u800c\u4e14\u7528\u65f6\u90fd\u5f88\u77ed\u3002\u4e0d\u8fc7\u4e0d\u77e5\u9053\u4f60\u6709\u6ca1\u6709\u6ce8\u610f\u5230\uff0c\u6211\u5c11\u4e86\u6700\u540e\u4e00\u4e2a\u6d4b\u8bd5\u3002\u539f\u56e0\u662f\u4ec0\u4e48\u5462\uff1f\n",
      "\n",
      "\u73b0\u5728\u7684\u8fd9\u79cd\u65b9\u6cd5\uff0c\u603b\u5171\u9700\u8981\u6d4b\u8bd5 sides\\*\\*dice_number \u8fd9\u4e48\u591a\u6b21\u3002\u6700\u540e\u4e00\u4e2a\u6d4b\u8bd5\u5c31\u5c06\u670910\\*\\*10=100\u4ebf\uff01\u6240\u4ee5\u6700\u540e\u4e00\u9879\u6d4b\u8bd5\u53ef\u4ee5\u9884\u8ba1\u5230\u5c06\u8bdd\u8d39\u5927\u91cf\u7684\u65f6\u95f4\u3002\u5177\u4f53\u6211\u5c31\u4e0d\u6d4b\u8bd5\u4e86\u3002\u6211\u4eec\u9700\u8981\u7684\u662f\u53e6\u5916\u4e00\u79cd\u66f4\u4f18\u5316\u7684\u7b97\u6cd5\u3002"
     ]
    },
    {
     "cell_type": "markdown",
     "metadata": {},
     "source": [
      "# \u601d\u8defv2\n",
      "\n",
      "\u65e2\u7136\u6211\u4eec\u4e3b\u8981\u8bdd\u8d39\u65f6\u95f4\u7684\u5730\u65b9\u5728\u904d\u5386\u6240\u6709\u7684\u7ec4\u5408\u60c5\u51b5\uff0c\u90a3\u4e48\u6211\u4eec\u5c31\u5728\u8fd9\u4e0a\u9762\u8fdb\u884c\u4f18\u5316\u3002\n",
      "\n",
      "\u4ee5\u7b2c\u4e00\u4e2a\u6d4b\u8bd5\u4e3a\u4f8b\u2014\u2014\u4e24\u4e2a6\u9762\u9ab0\u5b50\uff0c\u76ee\u6807\u70b9\u6570\u4e3a3\u3002\u7a0d\u5fae\u601d\u8003\u4e00\u4e0b\u5c31\u4f1a\u53d1\u73b0\uff0c\u7ec4\u5408\u7684\u65b9\u6cd5\u662f(1, 2)\u548c(2, 1)\u3002\u5982\u679c\u76ee\u6807\u70b9\u6570\u662f4\uff0c\u90a3\u4e48\u5408\u7406\u7684\u7ec4\u5408\u662f(1, 3)\uff0c(2, 2)\uff0c(3, 1)\u3002\u5230\u8fd9\u91cc\uff0c\u6211\u4eec\u662f\u4e0d\u662f\u55c5\u5230\u4e86\u4e00\u4e9b\u4f18\u5316\u7684\u53ef\u80fd\u5462\uff1f\uff1a\uff09\u5f53\u7136\u662f\u53ef\u4ee5\u7684\uff01\u56e0\u4e3a\u52a0\u6cd5\u4e2d\u5404\u4e2a\u6570\u662f\u6ca1\u6709\u987a\u5e8f\u8981\u6c42\u7684\uff0c\u5982\u679c\u53ef\u4ee5\u6253\u4e71\u9ab0\u5b50\u7684\u987a\u5e8f\uff0c\u5f97\u51fa\u7684\u70b9\u6570\u7ec4\u5408\u662f\u6709\u91cd\u590d\u60c5\u51b5\u7684\u3002\u6211\u4eec\u5c31\u53ef\u4ee5\u5148\u6c42\u51fa\u6570\u5b57\u7684\u7ec4\u5408\uff0c\u518d\u6765\u6c42\u51fa\u6bcf\u79cd\u7ec4\u5408\u53ef\u80fd\u7684\u6392\u5217\u6570\u5373\u53ef\u3002\n",
      "\n",
      "\u7531\u4e8e\u662f\u9700\u8981\u6c42\u51fa\u5404\u4e2a\u9ab0\u5b50\u7684\u70b9\u6570\u7ec4\u5408\u60c5\u51b5\uff0c\u6240\u4ee5\u70b9\u6570\u662f\u53ef\u4ee5\u91cd\u590d\u7684\u3002\u8fd9\u65f6\u6211\u4eec\u76f4\u63a5\u7528combinations_with_replacement\u8fd9\u4e2a\u51fd\u6570\u5c31\u53ef\u4ee5\u4e86\u3002\u800c\u4e14\u53ef\u4ee5\u7c97\u7565\u7684\u8ba1\u7b97\u51fa\uff0c\u8fd9\u79cd\u65f6\u5019\u9700\u8981\u904d\u5386\u7684\u6570\u91cf\u5c31\u6781\u5177\u51cf\u5c11\u5230\u4e86 C(sides+dice_number-1, dice_number)\u3002\n",
      "\n",
      "\u5f53\u6c42\u51fa\u8fd9\u4e9b\u7ec4\u5408\u65b9\u5f0f\u4e4b\u540e\uff0c\u6211\u4eec\u9700\u8981\u5224\u65ad\u4e00\u5171\u6709\u591a\u5c11\u79cd\u552f\u4e00\u7684\u6392\u5217\u65b9\u5f0f\u2014\u2014\u6bd4\u5982(1, 3)\u53ef\u4ee5\u53d8\u6210(3, 1)\uff1b\u4f46(2, 2)\u5c31\u6ca1\u6709\u5176\u4ed6\u552f\u4e00\u7684\u6392\u5217\u65b9\u5f0f\u4e86\u3002\n",
      "\n",
      "\u8d77\u59cb\u8fd9\u4e5f\u6bd4\u8f83\u7b80\u5355\uff0c\u8be6\u7ec6\u7684\u4fe1\u606f\u89c1 [\u8fd9\u91cc](http://www.mathwarehouse.com/probability/permutations-repeated-items.php)"
     ]
    },
    {
     "cell_type": "code",
     "collapsed": false,
     "input": [
      "from math import factorial\n",
      "from itertools import combinations_with_replacement, groupby\n",
      "def probability(dice_number, sides, target):\n",
      "    counter = 0\n",
      "    for i in combinations_with_replacement(range(1, sides + 1), dice_number):\n",
      "        if sum(i) == target:\n",
      "            itemCount = [len([k for k in j]) for _, j in groupby(i)]\n",
      "            counter += factorial(len(i)) / reduce(lambda x, y: x * y,\n",
      "                                                  map(factorial, itemCount))\n",
      "    return round(counter / (sides ** dice_number), 4)"
     ],
     "language": "python",
     "metadata": {},
     "outputs": [],
     "prompt_number": 24
    },
    {
     "cell_type": "markdown",
     "metadata": {},
     "source": [
      "\u6211\u4eec\u8fd8\u662f\u6d4b\u8bd5\u4e00\u4e0b:"
     ]
    },
    {
     "cell_type": "code",
     "collapsed": false,
     "input": [
      "%time assert(almost_equal(probability(2, 6, 3), 0.0556)), \"Basic example\"\n",
      "%time assert(almost_equal(probability(2, 6, 4), 0.0833)), \"More points\"\n",
      "%time assert(almost_equal(probability(2, 6, 7), 0.1667)), \"Maximum for two 6-sided dice\"\n",
      "%time assert(almost_equal(probability(2, 3, 5), 0.2222)), \"Small dice\"\n",
      "%time assert(almost_equal(probability(2, 3, 7), 0.0000)), \"Never!\"\n",
      "%time assert(almost_equal(probability(3, 6, 7), 0.0694)), \"Three dice\"\n",
      "%time assert(almost_equal(probability(10, 10, 50), 0.0375)), \"Many dice, many sides\""
     ],
     "language": "python",
     "metadata": {},
     "outputs": [
      {
       "output_type": "stream",
       "stream": "stdout",
       "text": [
        "CPU times: user 66 \u00b5s, sys: 12 \u00b5s, total: 78 \u00b5s\n",
        "Wall time: 83.9 \u00b5s\n",
        "CPU times: user 52 \u00b5s, sys: 1 \u00b5s, total: 53 \u00b5s\n",
        "Wall time: 57.9 \u00b5s\n",
        "CPU times: user 56 \u00b5s, sys: 0 ns, total: 56 \u00b5s\n",
        "Wall time: 62 \u00b5s\n",
        "CPU times: user 31 \u00b5s, sys: 1e+03 ns, total: 32 \u00b5s\n",
        "Wall time: 301 \u00b5s\n",
        "CPU times: user 19 \u00b5s, sys: 1 \u00b5s, total: 20 \u00b5s\n",
        "Wall time: 23.8 \u00b5s\n",
        "CPU times: user 83 \u00b5s, sys: 1e+03 ns, total: 84 \u00b5s\n",
        "Wall time: 88 \u00b5s\n",
        "CPU times: user 74.7 ms, sys: 8.61 ms, total: 83.3 ms"
       ]
      },
      {
       "output_type": "stream",
       "stream": "stdout",
       "text": [
        "\n",
        "Wall time: 98.5 ms\n"
       ]
      }
     ],
     "prompt_number": 25
    },
    {
     "cell_type": "markdown",
     "metadata": {},
     "source": [
      "\u6211\u4eec\u628a\u6240\u6709\u7684\u788e\u7247\u7a0d\u5fae\u6574\u7406\u4e00\u4e0b\u5c31\u5f97\u5230\u4e86\u5b8c\u6574\u7684\u89e3\u7b54\uff1a(checkio\u4e0d\u652f\u6301import future\uff0c\u6240\u4ee5\u6211\u4eec\u8981\u53bb\u6389\u8fd9\u4e2a\uff0c\u7136\u540e\u4fee\u6539\u4e00\u4e0b\u9664\u6cd5)"
     ]
    },
    {
     "cell_type": "code",
     "collapsed": false,
     "input": [
      "from math import factorial\n",
      "from itertools import combinations_with_replacement, groupby\n",
      "\n",
      "\n",
      "def probability(dice_number, sides, target):\n",
      "    counter = 0\n",
      "    for i in combinations_with_replacement(range(1, sides + 1), dice_number):\n",
      "        if sum(i) == target:\n",
      "            itemCount = [len([k for k in j]) for _, j in groupby(i)]\n",
      "            counter += factorial(len(i)) * 1.0 / reduce(lambda x, y: x * y,\n",
      "                                                        map(factorial,\n",
      "                                                            itemCount))\n",
      "    return round(counter * 1.0 / (sides ** dice_number), 4)\n",
      "\n",
      "if __name__ == '__main__':\n",
      "    # These are only used for self-checking and are not necessary for\n",
      "    # auto-testing\n",
      "    def almost_equal(checked, correct, significant_digits=4):\n",
      "        precision = 0.1 ** significant_digits\n",
      "        return correct - precision < checked < correct + precision\n",
      "\n",
      "    assert(almost_equal(probability(2, 6, 3), 0.0556)), \"Basic example\"\n",
      "    assert(almost_equal(probability(2, 6, 4), 0.0833)), \"More points\"\n",
      "    assert(almost_equal(probability(2, 6, 7), 0.1667)\n",
      "           ), \"Maximum for two 6-sided dice\"\n",
      "    assert(almost_equal(probability(2, 3, 5), 0.2222)), \"Small dice\"\n",
      "    assert(almost_equal(probability(2, 3, 7), 0.0000)), \"Never!\"\n",
      "    assert(almost_equal(probability(3, 6, 7), 0.0694)), \"Three dice\"\n",
      "    assert(almost_equal(probability(10, 10, 50), 0.0375)\n",
      "           ), \"Many dice, many sides\"\n"
     ],
     "language": "python",
     "metadata": {},
     "outputs": [],
     "prompt_number": 26
    },
    {
     "cell_type": "markdown",
     "metadata": {},
     "source": [
      "PS: \u9898\u76ee\u7684\u94fe\u63a5\uff1ahttp://www.checkio.org/mission/probably-dice/"
     ]
    }
   ],
   "metadata": {}
  }
 ]
}