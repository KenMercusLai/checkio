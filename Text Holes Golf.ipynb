{
 "metadata": {
  "name": "",
  "signature": "sha256:eda9087bf800a43a1d8359bea4135d9916909f167bd0686d0d90d384f9ad0ab9"
 },
 "nbformat": 3,
 "nbformat_minor": 0,
 "worksheets": [
  {
   "cells": [
    {
     "cell_type": "markdown",
     "metadata": {},
     "source": [
      "\u51b2\u5206\u7684\u65f6\u5019\u53c8\u5230\u4e86\uff01\uff01\n",
      "\n",
      "# \u9898\u76ee\u8981\u6c42\n",
      "\n",
      "\u9898\u76ee\u8981\u6c42\u4e00\u5982\u65e2\u5f80\u7684\u7b80\u5355\u660e\u4e86\uff1a\n",
      "\n",
      "    \u7edf\u8ba1\u4e00\u6bb5\u6587\u5b57\u4e2d\uff0c\u6709\u591a\u5c11\u7a7a\u683c\u6ee1\u8db3\u5468\u56f4\u90fd\u4e0d\u662f\u7a7a\u683c\u5b57\u7b26\u7684\u6570\u91cf\n",
      "    \n",
      "\u800c\u539f\u59cb\u4ee3\u7801\u561b\u2026\u2026"
     ]
    },
    {
     "cell_type": "code",
     "collapsed": false,
     "input": [
      "def golf(text):\n",
      "    return 0"
     ],
     "language": "python",
     "metadata": {},
     "outputs": [],
     "prompt_number": 1
    },
    {
     "cell_type": "markdown",
     "metadata": {},
     "source": [
      "# \u601d\u8def\n",
      "\n",
      "\u6211\u8fd8\u662f\u5148\u7528\u666e\u901a\u7684\u65b9\u5f0f\u6765\u5b9e\u73b0\uff0c\u7136\u540e\u518d\u7b80\u5316\u7a0b\u5e8f\u3002\n",
      "\n",
      "\u7b2c\u4e00\u884c\u3001\u6700\u540e\u4e00\u884c\u3001\u7b2c\u4e00\u5217\u548c\u6700\u540e\u4e00\u5217\u4e0d\u53ef\u80fd\u6709\u6ee1\u8db3\u6761\u4ef6\u7684\u7a7a\u683c\uff0c\u6240\u4ee5\u5728\u4ee3\u7801\u91cc\u9762\u5c31\u76f4\u63a5\u5ffd\u7565\u4e86\u3002"
     ]
    },
    {
     "cell_type": "code",
     "collapsed": false,
     "input": [
      "def golf(t):\n",
      "    c = 0\n",
      "    for r in range(1, len(t) - 1):\n",
      "        for i in range(1, len(t[r]) - 1):\n",
      "            try:\n",
      "                if (t[r][i] == ' 'and t[r][i - 1] != ' 'and t[r][i + 1] != ' 'and t[r - 1][i] != ' 'and t[r + 1][i] != ' 'and t[r + 1][i+1] != ' 'and t[r-1][i-1] != ' 'and t[r + 1][i-1] != ' 'and t[r-1][i+1] != ' '):\n",
      "                    c += 1\n",
      "            except:\n",
      "                pass\n",
      "    return c"
     ],
     "language": "python",
     "metadata": {},
     "outputs": [],
     "prompt_number": 7
    },
    {
     "cell_type": "markdown",
     "metadata": {},
     "source": [
      "\u5f53\u7136\uff0c\u4e0d\u51fa\u610f\u5916\u7684\u3002\u6211\u4eec\u7684\u4ee3\u7801\u592a\u957f\u4e86\uff1a\n",
      "\n",
      "    Your code is correct, but this is too long (414) for any points\n",
      "    \n",
      "# \u7b80\u5316\n",
      "    \n",
      "\u7b80\u5355\u7684\u5c06\u7a7a\u683c\u53bb\u6389\u540e\u518d\u6d4b\u8bd5\uff0c\u7ed3\u679c\u662f\uff1a\n",
      "\n",
      "    Your code is correct, but this is too long (355) for any points\n",
      "    \n",
      "\u518d\u628a\u5224\u65ad\u5468\u56f4\u4e00\u5708\u7684\u5224\u65ad\u4ee3\u7801\u6539\u6210not in\u8fd9\u6837\uff1a"
     ]
    },
    {
     "cell_type": "code",
     "collapsed": false,
     "input": [
      "def golf(t):\n",
      "    c=0\n",
      "    for r in range(1,len(t)-1):\n",
      "        for i in range(1,len(t[r])-1):\n",
      "            try:\n",
      "                if t[r][i]==' 'and' 'not in[t[r][i-1],t[r][i+1],t[r-1][i],t[r+1][i],t[r+1][i+1],t[r-1][i-1],t[r+1][i-1],t[r-1][i+1]]:\n",
      "                    c+=1\n",
      "            except:pass\n",
      "    return c"
     ],
     "language": "python",
     "metadata": {},
     "outputs": [],
     "prompt_number": 8
    },
    {
     "cell_type": "markdown",
     "metadata": {},
     "source": [
      "\u8fd9\u6837\u6539\u52a8\u540e\uff0c\u7ed3\u679c\u662f\uff1a\n",
      "    Points: 46, Place: 57th\n",
      "    \n",
      "\u867d\u7136\u7b80\u5316\u4e86\u5f88\u591a\uff0c\u4f46\u662f\u53ef\u4ee5\u53d1\u73b0\uff0c\u4ee3\u7801\u592a\u957f\u4e3b\u8981\u662f\u4eae\u70b9\uff1a\n",
      "\n",
      "1. \u4e24\u5c42for\u5faa\u73af\n",
      "2. \u5224\u65ad\u8bed\u53e5\u592a\u957f\n",
      "\n",
      "\u6211\u4eec\u73b0\u5728\u8981\u60f3\u529e\u6cd5\u6765\u7b80\u5316\u8fd9\u4e24\u4e2a\u5730\u65b9\u3002\n",
      "\n",
      "\u9996\u5148\u60f3\u5230\u7684\u662f\u80fd\u4e0d\u80fd\u7b80\u5316\u5224\u65ad\u8bed\u53e5\u3002\u5982\u679c\u6211\u4eec\u6bcf\u6b21\u53d6\u51fa\u4e00\u4e2a3x3\u7684\u65b9\u5757\uff0c\u7136\u540e\u4fdd\u8bc1\u4e2d\u95f4\u662f\u7a7a\u683c\uff0c\u5176\u4ed6\u4e0d\u662f\u5c31\u53ef\u4ee5\u4e86\u3002\u4e5f\u5c31\u662f\u8bf4\uff0c\u5bf9\u4e8e\u8fd9\u6837\u7684\u4e00\u4e2a\u65b9\u5757\n",
      "\n",
      "    a='1fji \"9br'\n",
      "    \n",
      "\u6211\u4eec\u53ea\u8981\u5224\u65ada.count(' ')==1 and a[5]==' '\u5373\u53ef\u3002\u8fd9\u6837\u76f8\u5bf9\u539f\u6765\u7684\u957f\u5ea6\u5c31\u77ed\u4e86\u5f88\u591a\u3002\n",
      "\n",
      "\u7b2c\u4e8c\u90e8\u5c31\u662f\u5982\u4f55\u4ea7\u751f\u8fd9\u4e2a\u65b9\u5757\u3002\u6211\u4eec\u5047\u8bbe\u5982\u4e0b\u7684\u5b57\u7b26\u4e32\n",
      "\n",
      "    a=\"How are you doing?\"\n",
      "    b=\"I'm fine. OK.\"\n",
      "    c=\"Lorem Ipsum?\"\n",
      "\n",
      "\u90a3\u4e48\u6211\u4eec\u53ef\u4ee5\u7528\u5982\u4e0b\u7684\u65b9\u6cd5\u5f97\u5230\u6211\u4eec\u9700\u8981\u7684\u4e1c\u897f\uff1a"
     ]
    },
    {
     "cell_type": "code",
     "collapsed": false,
     "input": [
      "a=\"How are you doing?\"\n",
      "b=\"I'm fine. OK.\"\n",
      "c=\"Lorem Ipsum?\"\n",
      "[(a[i:i+3], b[i:i+3], c[i:i+3]) for i in range(0, min(len(a), len(b), len(c)))]"
     ],
     "language": "python",
     "metadata": {},
     "outputs": [
      {
       "metadata": {},
       "output_type": "pyout",
       "prompt_number": 13,
       "text": [
        "[('How', \"I'm\", 'Lor'),\n",
        " ('ow ', \"'m \", 'ore'),\n",
        " ('w a', 'm f', 'rem'),\n",
        " (' ar', ' fi', 'em '),\n",
        " ('are', 'fin', 'm I'),\n",
        " ('re ', 'ine', ' Ip'),\n",
        " ('e y', 'ne.', 'Ips'),\n",
        " (' yo', 'e. ', 'psu'),\n",
        " ('you', '. O', 'sum'),\n",
        " ('ou ', ' OK', 'um?'),\n",
        " ('u d', 'OK.', 'm?'),\n",
        " (' do', 'K.', '?')]"
       ]
      }
     ],
     "prompt_number": 13
    },
    {
     "cell_type": "markdown",
     "metadata": {},
     "source": [
      "\u628a\u4e0a\u4e24\u4e2a\u8fdb\u884c\u7ec4\u5408\u4e00\u4e0b\uff1a"
     ]
    },
    {
     "cell_type": "code",
     "collapsed": false,
     "input": [
      "[1 \n",
      " for i in range(0, min(len(a), len(b), len(c)))\n",
      " if b[i+1]==' ' and (a[i:i+3]+b[i:i+3]+c[i:i+3]).count(' ')==1]"
     ],
     "language": "python",
     "metadata": {},
     "outputs": [
      {
       "metadata": {},
       "output_type": "pyout",
       "prompt_number": 14,
       "text": [
        "[1]"
       ]
      }
     ],
     "prompt_number": 14
    },
    {
     "cell_type": "markdown",
     "metadata": {},
     "source": [
      "\u6709\u4e00\u4e2a\u7a7a\u683c\u6ee1\u8db3\u6761\u4ef6\uff0c\u8fd9\u4e2a\u6211\u4eec\u53ef\u4ee5\u624b\u52a8\u8fdb\u884c\u9a8c\u8bc1\u3002\u90a3\u4e48\u73b0\u5728\u5c31\u662f\u8ba9a, b, c\u8fd9\u4e09\u4e2a\u53d8\u91cf\u80fd\u591f\u53d8\u5316\u8d77\u6765\u3002\u65b0\u7684\u4ee3\u7801\u5982\u4e0b\uff1a"
     ]
    },
    {
     "cell_type": "code",
     "collapsed": false,
     "input": [
      "def golf(t):\n",
      "    c = 0\n",
      "    for j in range(0, len(t) - 2):\n",
      "        c+= sum([1\n",
      "                 for i in range(0, min(len(t[j]), len(t[j + 1]), len(t[j + 2])) - 1)\n",
      "                 if t[j + 1][i + 1] == ' ' and (t[j][i:i + 3] + t[j + 1][i:i + 3] + t[j + 2][i:i + 3]).count(' ') == 1 and len(t[j][i:i + 3] + t[j + 1][i:i + 3] + t[j + 2][i:i + 3])==9])"
     ],
     "language": "python",
     "metadata": {},
     "outputs": []
    },
    {
     "cell_type": "markdown",
     "metadata": {},
     "source": [
      "    Personal best: 75, Place: 55th\n",
      "    \n",
      "\u518d\u7b80\u5316\u4e00\u70b9\uff0c\u540c\u65f6\u628a\u7f29\u8fdb\u6539\u62101\u4e2a\u7a7a\u683c:"
     ]
    },
    {
     "cell_type": "code",
     "collapsed": false,
     "input": [
      "def golf(t):\n",
      " c=0\n",
      " for j in range(0,len(t)-2):\n",
      "  x,y,z=t[j:j+3]\n",
      "  for i in range(0,min(len(x),len(y),len(z))-1):\n",
      "   u=x[i:i+3]+y[i:i+3]+z[i:i+3]\n",
      "   if y[i+1]==' 'and u.count(' ')==1 and len(u)==9:c+=1\n",
      " return c"
     ],
     "language": "python",
     "metadata": {},
     "outputs": [],
     "prompt_number": 15
    },
    {
     "cell_type": "markdown",
     "metadata": {},
     "source": [
      "    Personal best: 140, Place: 42nd\n",
      "    \n",
      "\u518d\u7b11\u4fee\u6539\u4e00\u4e0b\uff1a"
     ]
    },
    {
     "cell_type": "code",
     "collapsed": false,
     "input": [
      "def golf(t):\n",
      " c=0\n",
      " for j in range(0,len(t)-2):\n",
      "  for i in range(0,min(map(len,t[j:j+3]))-1):\n",
      "   x,y,z=t[j:j+3];u=x[i:i+3]+y[i:i+3]+z[i:i+3]\n",
      "   if all([y[i+1]==' ',u.count(' ')*9==len(u)]):c+=1\n",
      " return c"
     ],
     "language": "python",
     "metadata": {},
     "outputs": [],
     "prompt_number": 16
    },
    {
     "cell_type": "markdown",
     "metadata": {},
     "source": [
      "    Personal best: 148, Place: 40th\n",
      "    \n",
      "\u867d\u7136\u89c9\u5f97\u8fd8\u662f\u6709\u5f88\u5927\u7684\u63d0\u5347\u7a7a\u95f4\uff0c\u4f46\u662f\u6682\u65f6\u60f3\u4e0d\u51fa\u5982\u4f55\u4f18\u5316\u3002\u6682\u65f6\u5c31\u6b64\u6253\u4f4f\uff0c\u4ee5\u540e\u6709\u5fc3\u7684\u60f3\u6cd5\u518d\u4fee\u6539\u3002"
     ]
    }
   ],
   "metadata": {}
  }
 ]
}